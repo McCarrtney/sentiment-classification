{
 "cells": [
  {
   "cell_type": "code",
   "execution_count": 1,
   "metadata": {},
   "outputs": [
    {
     "name": "stderr",
     "output_type": "stream",
     "text": [
      "/Users/mccartney/.local/lib/python3.9/site-packages/tqdm-4.65.0-py3.9.egg/tqdm/auto.py:21: TqdmWarning: IProgress not found. Please update jupyter and ipywidgets. See https://ipywidgets.readthedocs.io/en/stable/user_install.html\n",
      "  from .autonotebook import tqdm as notebook_tqdm\n",
      "Found cached dataset sst2 (/Users/mccartney/.cache/huggingface/datasets/sst2/default/2.0.0/9896208a8d85db057ac50c72282bcb8fe755accc671a57dd8059d4e130961ed5)\n",
      "100%|██████████| 3/3 [00:00<00:00, 190.75it/s]\n"
     ]
    }
   ],
   "source": [
    "from datasets import load_dataset\n",
    "\n",
    "dataset = load_dataset(\"sst2\")"
   ]
  },
  {
   "cell_type": "code",
   "execution_count": 8,
   "metadata": {},
   "outputs": [
    {
     "name": "stdout",
     "output_type": "stream",
     "text": [
      "{'idx': 1, 'sentence': 'unflinchingly bleak and desperate ', 'label': 0}\n"
     ]
    }
   ],
   "source": [
    "print(dataset['validation'][1])"
   ]
  },
  {
   "cell_type": "code",
   "execution_count": null,
   "metadata": {},
   "outputs": [],
   "source": [
    "import openai\n",
    "\n",
    "messages = [\n",
    "    {\n",
    "        'role': 'user',\n",
    "        'content': 'Now I will give you a sentence, you should tell me that it contains positive sentiments or negative sentiments and tell me the reason.\\n Sentence: that loves its characters and communicates something rather beautiful about human nature'\n",
    "    }\n",
    "]\n",
    "\n",
    "generation_config = dict(\n",
    "    temperature=1,\n",
    "    top_p=1,\n",
    "    n=1, # n>1 is not supported in my default OpenAITask class. Please write your own task class if you want it.\n",
    "    max_tokens = 1024,\n",
    ")\n",
    "\n",
    "\n",
    "completion = openai.ChatCompletion.create(\n",
    "  engine='your engine',\n",
    "  messages=messages\n",
    ")"
   ]
  },
  {
   "cell_type": "code",
   "execution_count": null,
   "metadata": {},
   "outputs": [],
   "source": [
    "print(completion['choices'][0]['message']['content'])"
   ]
  },
  {
   "cell_type": "code",
   "execution_count": 3,
   "metadata": {},
   "outputs": [
    {
     "name": "stdout",
     "output_type": "stream",
     "text": [
      "Intel MKL WARNING: Support of Intel(R) Streaming SIMD Extensions 4.2 (Intel(R) SSE4.2) enabled only processors has been deprecated. Intel oneAPI Math Kernel Library 2025.0 will require Intel(R) Advanced Vector Extensions (Intel(R) AVX) instructions.\n",
      "SequenceClassifierOutput(loss=None, logits=tensor([[-4.1511,  3.7958]], grad_fn=<AddmmBackward0>), hidden_states=None, attentions=None)\n",
      "tensor([[-4.1511,  3.7958]], grad_fn=<AddmmBackward0>)\n",
      "1\n"
     ]
    }
   ],
   "source": [
    "import torch\n",
    "from transformers import AutoTokenizer, BertForSequenceClassification\n",
    "\n",
    "tokenizer = AutoTokenizer.from_pretrained(\"/Users/mccartney/downloads/bert-base-uncased-SST-2\")\n",
    "\n",
    "model = BertForSequenceClassification.from_pretrained(\"/Users/mccartney/downloads/bert-base-uncased-SST-2\")\n",
    "\n",
    "inputs = tokenizer(\"that loves its characters and communicates something rather beautiful about human nature \", return_tensors=\"pt\")\n",
    "output = model(**inputs)\n",
    "with torch.no_grad():\n",
    "    logits = output.logits\n",
    "\n",
    "predicted_class_id = logits.argmax().item()\n",
    "print(output)\n",
    "print(logits)\n",
    "print(predicted_class_id)"
   ]
  },
  {
   "cell_type": "code",
   "execution_count": null,
   "metadata": {},
   "outputs": [],
   "source": []
  }
 ],
 "metadata": {
  "kernelspec": {
   "display_name": "distill",
   "language": "python",
   "name": "python3"
  },
  "language_info": {
   "codemirror_mode": {
    "name": "ipython",
    "version": 3
   },
   "file_extension": ".py",
   "mimetype": "text/x-python",
   "name": "python",
   "nbconvert_exporter": "python",
   "pygments_lexer": "ipython3",
   "version": "3.9.16"
  },
  "orig_nbformat": 4
 },
 "nbformat": 4,
 "nbformat_minor": 2
}
